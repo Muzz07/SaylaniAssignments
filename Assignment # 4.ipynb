{
 "cells": [
  {
   "cell_type": "code",
   "execution_count": 1,
   "metadata": {},
   "outputs": [
    {
     "name": "stdout",
     "output_type": "stream",
     "text": [
      "{'first_name': 'Muhammad', 'last_name': 'Muzzammil', 'Age': 23, 'City': 'Karachi'}\n",
      "{'first_name': 'Muhammad', 'last_name': 'Muzzammil', 'Age': 23, 'City': 'Karachi', 'Education': 'Intermidiate'}\n",
      "{'first_name': 'Muhammad', 'last_name': 'Muzzammil', 'Age': 23, 'City': 'Karachi', 'Education': 'BSCS from KU'}\n",
      "{'first_name': 'Muhammad', 'last_name': 'Muzzammil', 'Age': 23, 'City': 'Karachi'}\n"
     ]
    }
   ],
   "source": [
    "# Question 1\n",
    "Person_info= {'first_name':'Muhammad',\n",
    "              'last_name' : 'Muzzammil',\n",
    "              'Age': 23,\n",
    "              'City': 'Karachi'}\n",
    "\n",
    "print(Person_info)\n",
    "Person_info['Education']='Intermidiate'\n",
    "print(Person_info)\n",
    "Person_info.update({'Education': 'BSCS from KU'})\n",
    "print(Person_info)\n",
    "del Person_info['Education']\n",
    "print(Person_info)"
   ]
  },
  {
   "cell_type": "code",
   "execution_count": 2,
   "metadata": {},
   "outputs": [
    {
     "name": "stdout",
     "output_type": "stream",
     "text": [
      "Sydney {'Country': 'Australia', 'Population': '5.23 Million', 'fact': 'The pacemaker was originally invented in Sydney at the Crown Street Womens Hospital by Dr. Mark Lidwill in 1926.'}\n",
      "New York {'Country': 'USA', 'Population': '8.62 Million', 'fact': 'New York City is the largest city in the United States.'}\n",
      "Karachi {'Country': 'Pakistan', 'Population': '16 million', 'fact': 'Karachi is amongst the cheapest cities to live in'}\n"
     ]
    }
   ],
   "source": [
    "#Question 2\n",
    "cities = {\n",
    "    'Sydney':{'Country':'Australia', 'Population':'5.23 Million', 'fact':'The pacemaker was originally invented in Sydney at the Crown Street Womens Hospital by Dr. Mark Lidwill in 1926.' },\n",
    "    'New York':{'Country':'USA', 'Population':'8.62 Million', 'fact':'New York City is the largest city in the United States.' },\n",
    "    'Karachi':{'Country':'Pakistan', 'Population':'16 million', 'fact':'Karachi is amongst the cheapest cities to live in' }\n",
    "   \n",
    "}\n",
    "\n",
    "for key in cities.keys():\n",
    "    print(key,cities[key])\n"
   ]
  },
  {
   "cell_type": "code",
   "execution_count": 4,
   "metadata": {},
   "outputs": [
    {
     "name": "stdout",
     "output_type": "stream",
     "text": [
      "Enter no of persons 2\n",
      "kindly tell me your ages 12\n",
      "kindly tell me your ages 24\n",
      "Total amount is25\n"
     ]
    }
   ],
   "source": [
    "#Question 3\n",
    "No_of_person=int(input('Enter no of persons '))\n",
    "x=No_of_person+1\n",
    "total=0\n",
    "for i in range(1,x):\n",
    "    age=int(input('kindly tell me your ages '))\n",
    "    if age<3:\n",
    "        total+=0\n",
    "    elif age>=3 and age<=12:\n",
    "        total+=10\n",
    "    elif age>12:\n",
    "        total+=15\n",
    "print(\"Total amount is\" +str(total))\n",
    "    "
   ]
  },
  {
   "cell_type": "code",
   "execution_count": 3,
   "metadata": {},
   "outputs": [
    {
     "name": "stdout",
     "output_type": "stream",
     "text": [
      "Tell me your fav bookOliver Twist\n",
      "One of my fav book is Oliver Twist\n"
     ]
    }
   ],
   "source": [
    "#Question 4\n",
    "def favBook(title):\n",
    "    print('One of my fav book is '+title)\n",
    "book=input('Tell me your fav book')\n",
    "favBook(book)"
   ]
  },
  {
   "cell_type": "code",
   "execution_count": null,
   "metadata": {},
   "outputs": [],
   "source": [
    "#Question 5\n",
    "from random import randrange\n",
    "num= randrange(1,31)\n",
    "turn=0\n",
    "for i in range(0,3):\n",
    "    \n",
    "    \n",
    "    ans=int(input('Enter your number '))\n",
    "    if num==ans:\n",
    "        print('Perfect Guess')\n",
    "    elif num>ans:\n",
    "        print('perfect num is greater than yours')\n",
    "        if num!=ans and i==2:\n",
    "            print('Write ans is '+str(num))\n",
    "    elif num<ans:\n",
    "        print('perfec num is smaller than yours')\n",
    "        if num!=ans and i==2:\n",
    "            print('Write ans is '+str(num))\n",
    "        \n",
    "        "
   ]
  },
  {
   "cell_type": "markdown",
   "metadata": {},
   "source": []
  },
  {
   "cell_type": "code",
   "execution_count": null,
   "metadata": {},
   "outputs": [],
   "source": []
  }
 ],
 "metadata": {
  "kernelspec": {
   "display_name": "Python 3",
   "language": "python",
   "name": "python3"
  },
  "language_info": {
   "codemirror_mode": {
    "name": "ipython",
    "version": 3
   },
   "file_extension": ".py",
   "mimetype": "text/x-python",
   "name": "python",
   "nbconvert_exporter": "python",
   "pygments_lexer": "ipython3",
   "version": "3.7.1"
  }
 },
 "nbformat": 4,
 "nbformat_minor": 2
}
