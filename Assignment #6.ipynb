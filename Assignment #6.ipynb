{
 "cells": [
  {
   "cell_type": "code",
   "execution_count": 4,
   "metadata": {},
   "outputs": [
    {
     "name": "stdout",
     "output_type": "stream",
     "text": [
      "Car name is  Corolla\n",
      "Audi\n",
      "KHI-789\n"
     ]
    }
   ],
   "source": [
    "class Car:\n",
    "    def __init__(self,model,color,name,company,number):\n",
    "        self.model=model\n",
    "        self.color=color\n",
    "        self.name=name\n",
    "        self.company=company\n",
    "        self.number=number\n",
    "    def carname(self):\n",
    "        print('Car name is ',self.name)\n",
    "    def UpdateCompany(self):\n",
    "        self.company= \"Audi\"\n",
    "        print(self.company)\n",
    "    def carnumber(self):\n",
    "        print(self.number)\n",
    "car1 = Car('2019','Black','Corolla','Toyota','KHI-123')\n",
    "car2 = Car('2018','Blue','Civic','Honda','KHI-456')\n",
    "car3 = Car('2019','Red','I8','Audi','KHI-789')\n",
    "car4 = Car('2019','Green','GT14','Ford','KHI-112')\n",
    "car5 = Car('2019','White','Kia','KIA','KHI-145')\n",
    "car1.carname()\n",
    "car2.UpdateCompany()\n",
    "car3.carnumber()\n"
   ]
  },
  {
   "cell_type": "code",
   "execution_count": 6,
   "metadata": {},
   "outputs": [
    {
     "name": "stdout",
     "output_type": "stream",
     "text": [
      "Object-oriented programming (OOP) is a software programming model constructed around objects. This model compartmentalizes data into objects (data fields) and describes object contents and behavior through the declaration of classes (methods).\n"
     ]
    }
   ],
   "source": [
    "#Question 1 What is OOP ? \n",
    "print('Object-oriented programming (OOP) is a software programming model constructed around objects. This model compartmentalizes data into objects (data fields) and describes object contents and behavior through the declaration of classes (methods).')"
   ]
  },
  {
   "cell_type": "code",
   "execution_count": 9,
   "metadata": {},
   "outputs": [
    {
     "name": "stdout",
     "output_type": "stream",
     "text": [
      "----Advantages of OOP----\n",
      "1) Through inheritance we can eliminate redundant (Unneccesary) code and extend the use of exsisting class\n",
      "2) The principle of data hiding helps for security\n",
      "3) Can be easily update from small to large systems\n",
      "4) It is easy to partion work in a project based on objects\n",
      "5) Code reuse is possible\n"
     ]
    }
   ],
   "source": [
    "#Question 2 Benefits of OOP\n",
    "print('----Advantages of OOP----')\n",
    "print('1) Through inheritance we can eliminate redundant (Unneccesary) code and extend the use of exsisting class')\n",
    "print('2) The principle of data hiding helps for security')\n",
    "print('3) Can be easily update from small to large systems')\n",
    "print('4) It is easy to partion work in a project based on objects')\n",
    "print('5) Code reuse is possible')"
   ]
  },
  {
   "cell_type": "code",
   "execution_count": 13,
   "metadata": {},
   "outputs": [
    {
     "name": "stdout",
     "output_type": "stream",
     "text": [
      "A function is a piece of code that is called by name. \n",
      "It can be passed data to operate on (i.e. the parameters) and can optionally return data (the return value). \n",
      "All data that is passed to a function is explicitly passed.\n",
      "\n",
      "A method is a piece of code that is called by a name that is associated with an object. \n",
      "In most respects it is identical to a function except for two key differences: \n",
      "\n",
      "1) A method is implicitly passed the object on which it was called.\n",
      "2) A method is able to operate on data that is contained within the class (remembering that an object is an instance of a class - the class is the definition, the object is an instance of that data).\n"
     ]
    }
   ],
   "source": [
    "#Question 3 Diff b/w Function and method\n",
    "print('A function is a piece of code that is called by name. \\nIt can be passed data to operate on (i.e. the parameters) and can optionally return data (the return value). \\nAll data that is passed to a function is explicitly passed.')\n",
    "print('\\nA method is a piece of code that is called by a name that is associated with an object. \\nIn most respects it is identical to a function except for two key differences: \\n\\n1) A method is implicitly passed the object on which it was called.\\n2) A method is able to operate on data that is contained within the class (remembering that an object is an instance of a class - the class is the definition, the object is an instance of that data).')"
   ]
  },
  {
   "cell_type": "code",
   "execution_count": 17,
   "metadata": {},
   "outputs": [
    {
     "name": "stdout",
     "output_type": "stream",
     "text": [
      "Class\n",
      "A class is a user defined blueprint or prototype from which objects are created. It represents the set of properties or methods that are common to all objects of one type.\n",
      "\n",
      "Object\n",
      "It is a basic unit of Object Oriented Programming and represents the real life entities.  A typical Java program creates many objects, which as you know, interact by invoking methods.\n",
      "\n",
      "Behaviour\n",
      "It is represented by methods of an object. It also reflects the response of an object with other objects.\n",
      "\n",
      "Attributes\n",
      "y the class itself. They will be shared by all the instances of the class. Therefore they have the same value for every instance. We define class attributes outside of all the methods, usually they are placed at the top, right below the class header.\n"
     ]
    }
   ],
   "source": [
    "# Question 4\n",
    "print('Class\\nA class is a user defined blueprint or prototype from which objects are created. It represents the set of properties or methods that are common to all objects of one type.')\n",
    "print('\\nObject\\nIt is a basic unit of Object Oriented Programming and represents the real life entities.  A typical Java program creates many objects, which as you know, interact by invoking methods.')\n",
    "print('\\nBehaviour\\nIt is represented by methods of an object. It also reflects the response of an object with other objects.')\n",
    "print('\\nAttributes\\ny the class itself. They will be shared by all the instances of the class. Therefore they have the same value for every instance. We define class attributes outside of all the methods, usually they are placed at the top, right below the class header.')"
   ]
  },
  {
   "cell_type": "code",
   "execution_count": null,
   "metadata": {},
   "outputs": [],
   "source": []
  }
 ],
 "metadata": {
  "kernelspec": {
   "display_name": "Python 3",
   "language": "python",
   "name": "python3"
  },
  "language_info": {
   "codemirror_mode": {
    "name": "ipython",
    "version": 3
   },
   "file_extension": ".py",
   "mimetype": "text/x-python",
   "name": "python",
   "nbconvert_exporter": "python",
   "pygments_lexer": "ipython3",
   "version": "3.7.1"
  }
 },
 "nbformat": 4,
 "nbformat_minor": 2
}
