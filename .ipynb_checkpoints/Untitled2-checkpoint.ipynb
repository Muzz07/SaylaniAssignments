{
 "cells": [
  {
   "cell_type": "code",
   "execution_count": 2,
   "metadata": {},
   "outputs": [
    {
     "name": "stdout",
     "output_type": "stream",
     "text": [
      " Enter Your Namesadsa\n",
      "===============Welcocome sadsa=======================\n",
      "Press 1 to see your list or Press 2 to Add or delete in your list 1\n",
      "1 {'Nothing': {'Nothing': 'Nothing'}}\n",
      "Press 1 to see your list or Press 2 to Add or delete in your list 2\n",
      "Press 1 to add , Press 2 to Update , Press 3 to Delete1\n",
      "Enter your work /n this will be added in your TODO list sad\n",
      "Enter the date todo this task sad\n",
      "Enter time todo this task asd\n",
      "1 {'Nothing': {'Nothing': 'Nothing'}}\n",
      "2 {'sad': {'date': 'sad', 'Time': 'asd'}}\n",
      "Press 1 to see your list or Press 2 to Add or delete in your list 2\n",
      "Press 1 to add , Press 2 to Update , Press 3 to Deleteasd\n"
     ]
    },
    {
     "ename": "ValueError",
     "evalue": "invalid literal for int() with base 10: 'asd'",
     "output_type": "error",
     "traceback": [
      "\u001b[1;31m---------------------------------------------------------------------------\u001b[0m",
      "\u001b[1;31mValueError\u001b[0m                                Traceback (most recent call last)",
      "\u001b[1;32m<ipython-input-2-00eca4e9bbec>\u001b[0m in \u001b[0;36m<module>\u001b[1;34m\u001b[0m\n\u001b[0;32m     37\u001b[0m         \u001b[1;31m#Add Update and Delete\u001b[0m\u001b[1;33m\u001b[0m\u001b[1;33m\u001b[0m\u001b[1;33m\u001b[0m\u001b[0m\n\u001b[0;32m     38\u001b[0m         \u001b[1;32melif\u001b[0m \u001b[0mint\u001b[0m\u001b[1;33m(\u001b[0m\u001b[0mguide\u001b[0m\u001b[1;33m)\u001b[0m\u001b[1;33m==\u001b[0m\u001b[1;36m2\u001b[0m\u001b[1;33m:\u001b[0m\u001b[1;33m\u001b[0m\u001b[1;33m\u001b[0m\u001b[0m\n\u001b[1;32m---> 39\u001b[1;33m             \u001b[0mopt\u001b[0m\u001b[1;33m=\u001b[0m\u001b[0mint\u001b[0m\u001b[1;33m(\u001b[0m\u001b[0minput\u001b[0m\u001b[1;33m(\u001b[0m\u001b[1;34m\"Press 1 to add , Press 2 to Update , Press 3 to Delete\"\u001b[0m\u001b[1;33m)\u001b[0m\u001b[1;33m)\u001b[0m\u001b[1;33m\u001b[0m\u001b[1;33m\u001b[0m\u001b[0m\n\u001b[0m\u001b[0;32m     40\u001b[0m             \u001b[1;32mif\u001b[0m \u001b[0mopt\u001b[0m\u001b[1;33m==\u001b[0m\u001b[1;36m1\u001b[0m\u001b[1;33m:\u001b[0m\u001b[1;33m\u001b[0m\u001b[1;33m\u001b[0m\u001b[0m\n\u001b[0;32m     41\u001b[0m                 \u001b[0mAdditem\u001b[0m\u001b[1;33m(\u001b[0m\u001b[1;33m)\u001b[0m\u001b[1;33m\u001b[0m\u001b[1;33m\u001b[0m\u001b[0m\n",
      "\u001b[1;31mValueError\u001b[0m: invalid literal for int() with base 10: 'asd'"
     ]
    }
   ],
   "source": [
    "#TODO APP\n",
    "work=[{\"Nothing\":{\"Nothing\":'Nothing'}}]\n",
    "#All fuctions\n",
    "def Additem():\n",
    "    add=input('Enter your work /n this will be added in your TODO list ')\n",
    "    date =input(\"Enter the date todo this task \")\n",
    "    time = input(\"Enter time todo this task \")\n",
    "    \n",
    "    \n",
    "    work.append({add:{'date':date,'Time':time}})\n",
    "    lim=len(work)\n",
    "    for i in range(0,lim):\n",
    "        print(i+1,work[i])\n",
    "       \n",
    "    \n",
    "def Updated(update):\n",
    "    add=input('Enter your work /n this will be added in your TODO list ')\n",
    "    date =input(\"Enter the date todo this task \")\n",
    "    time = input(\"Enter time todo this task \")\n",
    "    work[update-1]={add:{'date':date,'Time':time}}\n",
    "    \n",
    "    for i in range(0,lim):\n",
    "        print(i+1,work[i])\n",
    "        \n",
    "name=input(' Enter Your Name')\n",
    "print(\"===============Welcocome\"+ \" \"+name+\"=======================\")\n",
    "#Body\n",
    "for z in range(0,10):\n",
    "        lim=len(work)\n",
    "        guide= input('Press 1 to see your list or Press 2 to Add or delete in your list ')\n",
    "        #Only Printing list\n",
    "        if int(guide)==1:\n",
    "            lim=len(work)\n",
    "            for i in range(0,lim):\n",
    "                print(i+1,work[i])\n",
    "\n",
    "        #Add Update and Delete\n",
    "        elif int(guide)==2:\n",
    "            opt=int(input(\"Press 1 to add , Press 2 to Update , Press 3 to Delete\"))\n",
    "            if opt==1:\n",
    "                Additem()\n",
    "            elif opt == 2:\n",
    "                print('which record you want to update?')\n",
    "                for i in range(0,lim):\n",
    "                    print(i+1,work[i])\n",
    "                update=int(input('Enter number pls '))\n",
    "                Updated(update)\n",
    "            elif opt==3:\n",
    "                print('which record you want to delete or press 0 to delete all')\n",
    "                lim=len(work)\n",
    "                for i in range(0,lim):\n",
    "                    print(i+1,work[i])\n",
    "                    target = int(input('enter index pls'))\n",
    "                    if target == 0:\n",
    "                        del work\n",
    "\n",
    "\n",
    "                    elif target!=0:\n",
    "                        del work[target-1]\n",
    "                        for i in range(0,lim):\n",
    "                            print(i+1,work[i])\n",
    "            \n",
    "\n",
    "    "
   ]
  },
  {
   "cell_type": "code",
   "execution_count": null,
   "metadata": {},
   "outputs": [],
   "source": []
  }
 ],
 "metadata": {
  "kernelspec": {
   "display_name": "Python 3",
   "language": "python",
   "name": "python3"
  },
  "language_info": {
   "codemirror_mode": {
    "name": "ipython",
    "version": 3
   },
   "file_extension": ".py",
   "mimetype": "text/x-python",
   "name": "python",
   "nbconvert_exporter": "python",
   "pygments_lexer": "ipython3",
   "version": "3.7.1"
  }
 },
 "nbformat": 4,
 "nbformat_minor": 2
}
