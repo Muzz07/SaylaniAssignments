{
 "cells": [
  {
   "cell_type": "code",
   "execution_count": 12,
   "metadata": {},
   "outputs": [
    {
     "name": "stdout",
     "output_type": "stream",
     "text": [
      "Enter a number to find the factorial\n",
      " 4\n",
      "factorial of 4 = 24\n"
     ]
    }
   ],
   "source": [
    "#Question:1 Write a Python function to calculate the factorial of a number \n",
    "def factorial(inp):\n",
    "    ans = inp\n",
    "    for i in range(1,inp):\n",
    "        ans = ans*i\n",
    "    print('factorial of '+str(inp)+' = '+str(ans))\n",
    "inp = int(input('Enter a number to find the factorial\\n '))\n",
    "factorial(inp)"
   ]
  },
  {
   "cell_type": "code",
   "execution_count": 23,
   "metadata": {},
   "outputs": [
    {
     "name": "stdout",
     "output_type": "stream",
     "text": [
      "Enter string:Hey I am Muzz\n",
      "The number of lowercase characters is:\n",
      "7\n",
      "The number of uppercase characters is:\n",
      "3\n"
     ]
    }
   ],
   "source": [
    "#Question2 : count the number of lower case ans upper case char in a string\n",
    "\n",
    "sen=input(\"Enter string:\")\n",
    "\n",
    "def count(string):\n",
    "    count1=0\n",
    "    count2=0\n",
    "    for i in string:\n",
    "        if(i.islower()):\n",
    "            count1=count1+1\n",
    "        elif(i.isupper()):\n",
    "            count2=count2+1\n",
    "    print(\"The number of lowercase characters is:\")\n",
    "    print(count1)\n",
    "    print(\"The number of uppercase characters is:\")\n",
    "    print(count2)\n",
    "\n",
    "count(sen)\n"
   ]
  },
  {
   "cell_type": "code",
   "execution_count": null,
   "metadata": {},
   "outputs": [],
   "source": []
  }
 ],
 "metadata": {
  "kernelspec": {
   "display_name": "Python 3",
   "language": "python",
   "name": "python3"
  },
  "language_info": {
   "codemirror_mode": {
    "name": "ipython",
    "version": 3
   },
   "file_extension": ".py",
   "mimetype": "text/x-python",
   "name": "python",
   "nbconvert_exporter": "python",
   "pygments_lexer": "ipython3",
   "version": "3.7.1"
  }
 },
 "nbformat": 4,
 "nbformat_minor": 2
}
