{
 "cells": [
  {
   "cell_type": "code",
   "execution_count": 1,
   "metadata": {},
   "outputs": [
    {
     "name": "stdout",
     "output_type": "stream",
     "text": [
      "Twinkle, twinkle, little star,\n",
      " \tHow I wonder what you are!\n",
      " \t\tUp above the world so high,\n",
      " \t\tLike a diamond in the sky.\n",
      "Twinkle, twinkle, little star,\n",
      " \tHow I wonder what you are!\n"
     ]
    }
   ],
   "source": [
    "# Question#1\n",
    "print(\"Twinkle, twinkle, little star,\\n \\tHow I wonder what you are!\\n \\t\\tUp above the world so high,\\n \\t\\tLike a diamond in the sky.\\nTwinkle, twinkle, little star,\\n \\tHow I wonder what you are!\")\n"
   ]
  },
  {
   "cell_type": "code",
   "execution_count": 2,
   "metadata": {},
   "outputs": [
    {
     "name": "stdout",
     "output_type": "stream",
     "text": [
      "3.7.1 (default, Dec 10 2018, 22:54:23) [MSC v.1915 64 bit (AMD64)]\n"
     ]
    }
   ],
   "source": [
    "# Question#2\n",
    "\n",
    "import sys\n",
    "print(sys.version)"
   ]
  },
  {
   "cell_type": "code",
   "execution_count": 3,
   "metadata": {},
   "outputs": [
    {
     "name": "stdout",
     "output_type": "stream",
     "text": [
      "Current date and time :  27-11-2019 17:39:14\n"
     ]
    }
   ],
   "source": [
    "# Question #3\n",
    "import datetime\n",
    "current = datetime.datetime.now()\n",
    "print (\"Current date and time : \",current.strftime(\"%d-%m-%Y %H:%M:%S\"))"
   ]
  },
  {
   "cell_type": "code",
   "execution_count": 4,
   "metadata": {},
   "outputs": [
    {
     "name": "stdout",
     "output_type": "stream",
     "text": [
      "Enter redius of the circle: 5\n",
      "Area of the given circle is  78.5\n"
     ]
    }
   ],
   "source": [
    "# Question#4\n",
    "\n",
    "radius=float(input(\"Enter redius of the circle: \"))\n",
    "r2= radius**2\n",
    "Area=3.14*r2\n",
    "print (\"Area of the given circle is \",Area)"
   ]
  },
  {
   "cell_type": "code",
   "execution_count": 5,
   "metadata": {},
   "outputs": [
    {
     "name": "stdout",
     "output_type": "stream",
     "text": [
      "Enter first name: Muhammad\n",
      "Enter last name: Muzzammil\n",
      "Muzzammil Muhammad\n"
     ]
    }
   ],
   "source": [
    "#Question #5\n",
    "\n",
    "FirstName=str(input(\"Enter first name: \"));\n",
    "LastName=str(input(\"Enter last name: \"));\n",
    "print(LastName,FirstName)\n"
   ]
  },
  {
   "cell_type": "code",
   "execution_count": 6,
   "metadata": {},
   "outputs": [
    {
     "name": "stdout",
     "output_type": "stream",
     "text": [
      "Enter first value: 5\n",
      "Enter second value: 7\n",
      "The sum of both the values is:  12.0\n"
     ]
    }
   ],
   "source": [
    "# Question#6\n",
    "\n",
    "num1=float(input(\"Enter first value: \"))\n",
    "num2=float(input(\"Enter second value: \"))\n",
    "result=num1+num2\n",
    "print(\"The sum of both the values is: \",result)"
   ]
  },
  {
   "cell_type": "code",
   "execution_count": null,
   "metadata": {},
   "outputs": [],
   "source": []
  }
 ],
 "metadata": {
  "kernelspec": {
   "display_name": "Python 3",
   "language": "python",
   "name": "python3"
  },
  "language_info": {
   "codemirror_mode": {
    "name": "ipython",
    "version": 3
   },
   "file_extension": ".py",
   "mimetype": "text/x-python",
   "name": "python",
   "nbconvert_exporter": "python",
   "pygments_lexer": "ipython3",
   "version": "3.7.1"
  }
 },
 "nbformat": 4,
 "nbformat_minor": 2
}
