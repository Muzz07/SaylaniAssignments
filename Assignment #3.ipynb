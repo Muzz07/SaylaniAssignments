{
 "cells": [
  {
   "cell_type": "code",
   "execution_count": 1,
   "metadata": {},
   "outputs": [
    {
     "name": "stdout",
     "output_type": "stream",
     "text": [
      "Enter first value 7\n",
      "Enter first value 8\n",
      " + , - , / , * kindly selct the option /\n",
      "0.875  Answer\n"
     ]
    }
   ],
   "source": [
    "#Question 1 Calculator\n",
    "val1 = int(input('Enter first value '))\n",
    "val2 = int(input('Enter first value '))\n",
    "operator = input(' + , - , / , * kindly selct the option ')\n",
    "if operator == '+':\n",
    "    ans= val1+val2\n",
    "    print(ans,' Answer')\n",
    "elif operator == '-':\n",
    "    ans= val1-val2\n",
    "    print(ans,' Answer')\n",
    "elif operator == '/':\n",
    "    ans= val1/val2\n",
    "    print(ans,' Answer')\n",
    "elif operator == '*':\n",
    "    ans= val1*val2\n",
    "    print(ans,' Answer')\n",
    "else:\n",
    "    print('invalid operator')\n"
   ]
  },
  {
   "cell_type": "code",
   "execution_count": 5,
   "metadata": {},
   "outputs": [
    {
     "name": "stdout",
     "output_type": "stream",
     "text": [
      "23\n",
      "41\n",
      "88\n",
      "0.98\n",
      "[23, 41, 88, 0.98]\n"
     ]
    }
   ],
   "source": [
    "#Question 2 Finding numeric values in the list\n",
    "mix = ['Muzz','Muzzammil','22',23,41,'Python',88,0.98]\n",
    "for i in mix:\n",
    "    if type(i)==int or type(i) == float:\n",
    "        print(i)\n",
    "#Another Way\n",
    "\n",
    "Set = [i for i in mix if type(i) == int or type(i) == float]\n",
    "print(Set)"
   ]
  },
  {
   "cell_type": "code",
   "execution_count": 39,
   "metadata": {},
   "outputs": [],
   "source": [
    "\n",
    "            \n",
    "        \n",
    "\n"
   ]
  },
  {
   "cell_type": "code",
   "execution_count": 14,
   "metadata": {},
   "outputs": [
    {
     "name": "stdout",
     "output_type": "stream",
     "text": [
      "{'Name': 'Muzzammil Younus', 'Age': 12, 'DoB': '27 feb 1996'}\n",
      "{'Name': 'Muzzammil Younus', 'Age': 12, 'DoB': '27 feb 1996', 'Address': 'Karachi'}\n",
      "{'Name': 'Muzzammil Younus', 'Age': 12, 'DoB': '27 feb 1996', 'Address': 'Karachi', 'Course Title': 'Python', 'RollNo': 2567}\n"
     ]
    }
   ],
   "source": [
    "#Question 3 adding keys to dictionary\n",
    "dic = {'Name':'Muzzammil Younus',\n",
    "       'Age':12,\n",
    "       'DoB':'27 feb 1996'}\n",
    "print(dic)\n",
    "dic['Address'] = 'Karachi'\n",
    "print(dic)\n",
    "dic.update({'Course Title':'Python', 'RollNo':2567})\n",
    "print(dic)"
   ]
  },
  {
   "cell_type": "code",
   "execution_count": 78,
   "metadata": {},
   "outputs": [
    {
     "name": "stdout",
     "output_type": "stream",
     "text": [
      "31\n"
     ]
    }
   ],
   "source": [
    "#Question 4 program of sum of all the numeric items in the dictionary\n",
    "dic2 = {1:'z',2:'a',3:'c',4:'d','z':1,'x':2,'c':3,7:8}\n",
    "sum=0\n",
    "for x,y in dic2.items():\n",
    "    if type(y)==int:\n",
    "        sum = sum+y\n",
    "    if type(x)==int:\n",
    "        sum=sum+x\n",
    "print(sum)\n",
    "        "
   ]
  },
  {
   "cell_type": "code",
   "execution_count": 69,
   "metadata": {},
   "outputs": [
    {
     "name": "stdout",
     "output_type": "stream",
     "text": [
      "[74, 72, 44]\n"
     ]
    }
   ],
   "source": [
    "#Question 5 idnetifying duplicate values from a list\n",
    "new = [71,74,74,78,72,75,89,95,44,44,5,72]\n",
    "my = []\n",
    "lim=len(new)\n",
    "for i in range (lim):\n",
    "    k=i+1\n",
    "    for k in range(k,lim):\n",
    "        if new[i]==new[k] and new[k] not in my:\n",
    "            my.append(new[i])\n",
    "print(my)"
   ]
  },
  {
   "cell_type": "code",
   "execution_count": 77,
   "metadata": {},
   "outputs": [
    {
     "name": "stdout",
     "output_type": "stream",
     "text": [
      "{'a': 100, 'b': 200, 'c': 300, 300: 'a'}\n",
      "enter key 300\n",
      "key is already present\n"
     ]
    }
   ],
   "source": [
    "#Question # 6 finding if a given key is already present in dictionary\n",
    "dicto = {'a': 100, 'b':200, 'c':300,300:'a'}\n",
    "print(dicto)\n",
    "val = input('enter key ')\n",
    "if val in str(dicto.keys()):\n",
    "    print('key is already present')\n",
    "else:\n",
    "    print('u can use this key')"
   ]
  },
  {
   "cell_type": "code",
   "execution_count": null,
   "metadata": {},
   "outputs": [],
   "source": []
  }
 ],
 "metadata": {
  "kernelspec": {
   "display_name": "Python 3",
   "language": "python",
   "name": "python3"
  },
  "language_info": {
   "codemirror_mode": {
    "name": "ipython",
    "version": 3
   },
   "file_extension": ".py",
   "mimetype": "text/x-python",
   "name": "python",
   "nbconvert_exporter": "python",
   "pygments_lexer": "ipython3",
   "version": "3.7.1"
  }
 },
 "nbformat": 4,
 "nbformat_minor": 2
}
