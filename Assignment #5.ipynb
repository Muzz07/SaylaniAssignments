{
 "cells": [
  {
   "cell_type": "code",
   "execution_count": 26,
   "metadata": {},
   "outputs": [
    {
     "name": "stdout",
     "output_type": "stream",
     "text": [
      "Enter a number to find the factorial\n",
      " 5\n",
      "factorial of 5 = 120\n"
     ]
    }
   ],
   "source": [
    "#Question:1 Write a Python function to calculate the factorial of a number \n",
    "def factorial(inp):\n",
    "    ans = inp\n",
    "    for i in range(1,inp):\n",
    "        ans = ans*i\n",
    "    print('factorial of '+str(inp)+' = '+str(ans))\n",
    "inp = int(input('Enter a number to find the factorial\\n '))\n",
    "factorial(inp)"
   ]
  },
  {
   "cell_type": "code",
   "execution_count": 27,
   "metadata": {},
   "outputs": [
    {
     "name": "stdout",
     "output_type": "stream",
     "text": [
      "Enter string:Hey I am MuzzAmmil\n",
      "The number of lowercase characters is:\n",
      "11\n",
      "The number of uppercase characters is:\n",
      "4\n"
     ]
    }
   ],
   "source": [
    "#Question2 : count the number of lower case ans upper case char in a string\n",
    "\n",
    "sen=input(\"Enter string:\")\n",
    "\n",
    "def count(string):\n",
    "    count1=0\n",
    "    count2=0\n",
    "    for i in string:\n",
    "        if(i.islower()):\n",
    "            count1=count1+1\n",
    "        elif(i.isupper()):\n",
    "            count2=count2+1\n",
    "    print(\"The number of lowercase characters is:\")\n",
    "    print(count1)\n",
    "    print(\"The number of uppercase characters is:\")\n",
    "    print(count2)\n",
    "\n",
    "count(sen)\n"
   ]
  },
  {
   "cell_type": "code",
   "execution_count": 1,
   "metadata": {},
   "outputs": [
    {
     "name": "stdout",
     "output_type": "stream",
     "text": [
      "1 It is a odd number\n",
      "2 It is a even number\n",
      "3 It is a odd number\n",
      "4 It is a even number\n",
      "5 It is a odd number\n",
      "6 It is a even number\n",
      "7 It is a odd number\n",
      "8 It is a even number\n",
      "9 It is a odd number\n"
     ]
    }
   ],
   "source": [
    "#Question 3: Write a Python function to print the even numbers from a given list.\n",
    "def even(num):\n",
    "    if num%2==0:\n",
    "        print(str(num)+\" It is a even number\")\n",
    "    else:\n",
    "        print(str(num)+\" It is a odd number\")\n",
    "    \n",
    "num=[1,2,3,4,5,6,7,8,9]\n",
    "for i in num:\n",
    "    even(i)"
   ]
  },
  {
   "cell_type": "code",
   "execution_count": 17,
   "metadata": {},
   "outputs": [
    {
     "name": "stdout",
     "output_type": "stream",
     "text": [
      "Enter to check lol\n",
      "Yes this is palindrome\n"
     ]
    }
   ],
   "source": [
    "#Question 4:Write a Python function that checks whether a passed string is palindrome or not.\n",
    "def check():\n",
    "        string = input('Enter to check ')\n",
    "        new_str= reversed(string)\n",
    "        if list(string)==list(new_str):\n",
    "            print('Yes this is palindrome')\n",
    "        else:\n",
    "            print('No this word is not a palindrome')\n",
    "check()"
   ]
  },
  {
   "cell_type": "code",
   "execution_count": 15,
   "metadata": {},
   "outputs": [
    {
     "name": "stdout",
     "output_type": "stream",
     "text": [
      "enter a number 469\n",
      "It is not a prime number\n"
     ]
    }
   ],
   "source": [
    "#Question 5: Write a Python function that checks whether a passed string is palindrome or not.\n",
    "def prime(num):\n",
    "    if num > 1:\n",
    "        for i in range(2,num):\n",
    "            if num%i == 0:\n",
    "                print('It is not a prime number')\n",
    "                break\n",
    "        else:\n",
    "             print('It is a prime number')\n",
    "\n",
    "num = int(input('enter a number '))\n",
    "prime(num)"
   ]
  },
  {
   "cell_type": "code",
   "execution_count": 39,
   "metadata": {},
   "outputs": [
    {
     "name": "stdout",
     "output_type": "stream",
     "text": [
      "Pampers\n",
      "vegetables\n",
      "gifts\n",
      "Party items\n",
      "cake\n"
     ]
    }
   ],
   "source": [
    "#Question 6:\n",
    "\n",
    "    \n",
    "def item(*things):\n",
    "    for value in things:\n",
    "        print(value)\n",
    "item('Pampers','vegetables','gifts','Party items','cake')"
   ]
  },
  {
   "cell_type": "code",
   "execution_count": null,
   "metadata": {},
   "outputs": [],
   "source": []
  }
 ],
 "metadata": {
  "kernelspec": {
   "display_name": "Python 3",
   "language": "python",
   "name": "python3"
  },
  "language_info": {
   "codemirror_mode": {
    "name": "ipython",
    "version": 3
   },
   "file_extension": ".py",
   "mimetype": "text/x-python",
   "name": "python",
   "nbconvert_exporter": "python",
   "pygments_lexer": "ipython3",
   "version": "3.7.1"
  }
 },
 "nbformat": 4,
 "nbformat_minor": 2
}
